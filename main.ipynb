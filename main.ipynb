{
 "cells": [
  {
   "cell_type": "code",
   "execution_count": 1,
   "metadata": {
    "execution": {
     "iopub.execute_input": "2025-10-15T03:04:23.164120Z",
     "iopub.status.busy": "2025-10-15T03:04:23.163425Z",
     "iopub.status.idle": "2025-10-15T03:04:23.168479Z",
     "shell.execute_reply": "2025-10-15T03:04:23.167670Z",
     "shell.execute_reply.started": "2025-10-15T03:04:23.164097Z"
    },
    "id": "IQ6n_UmmHY4S",
    "trusted": true
   },
   "outputs": [],
   "source": [
    "import torch\n",
    "import torch.nn as nn\n",
    "import torch.optim as optim\n",
    "import torchvision\n",
    "import torchvision.transforms as transforms\n",
    "from torch.utils.data import DataLoader\n",
    "import matplotlib.pyplot as plt\n",
    "import numpy as np\n",
    "from sklearn.metrics import confusion_matrix, classification_report\n",
    "import seaborn as sns\n",
    "from tqdm import tqdm\n",
    "import time"
   ]
  },
  {
   "cell_type": "code",
   "execution_count": 2,
   "metadata": {
    "execution": {
     "iopub.execute_input": "2025-10-15T03:04:23.170011Z",
     "iopub.status.busy": "2025-10-15T03:04:23.169693Z",
     "iopub.status.idle": "2025-10-15T03:04:23.183836Z",
     "shell.execute_reply": "2025-10-15T03:04:23.183137Z",
     "shell.execute_reply.started": "2025-10-15T03:04:23.169988Z"
    },
    "id": "e0NsWbqvIFIy",
    "trusted": true
   },
   "outputs": [],
   "source": [
    "## Step 1: Load and Preprocess Datas\n",
    "# Define transformations for images\n",
    "transform = transforms.Compose([\n",
    "    transforms.ToTensor(),          # Convert images to tensors\n",
    "    transforms.Normalize((0.5,), (0.5,))  # Normalize images\n",
    "])"
   ]
  },
  {
   "cell_type": "code",
   "execution_count": 3,
   "metadata": {
    "execution": {
     "iopub.execute_input": "2025-10-15T03:04:23.185511Z",
     "iopub.status.busy": "2025-10-15T03:04:23.185023Z",
     "iopub.status.idle": "2025-10-15T03:04:23.289048Z",
     "shell.execute_reply": "2025-10-15T03:04:23.288417Z",
     "shell.execute_reply.started": "2025-10-15T03:04:23.185493Z"
    },
    "id": "l254MU2HIKb4",
    "trusted": true
   },
   "outputs": [],
   "source": [
    "# Load MNIST dataset\n",
    "train_dataset = torchvision.datasets.MNIST(root=\"./data\", train=True, transform=transform, download=True)\n",
    "test_dataset = torchvision.datasets.MNIST(root=\"./data\", train=False, transform=transform, download=False)"
   ]
  },
  {
   "cell_type": "code",
   "execution_count": 4,
   "metadata": {
    "execution": {
     "iopub.execute_input": "2025-10-15T03:04:23.290599Z",
     "iopub.status.busy": "2025-10-15T03:04:23.290333Z",
     "iopub.status.idle": "2025-10-15T03:04:23.296044Z",
     "shell.execute_reply": "2025-10-15T03:04:23.295337Z",
     "shell.execute_reply.started": "2025-10-15T03:04:23.290576Z"
    },
    "id": "hio_0YcDKSG6",
    "trusted": true
   },
   "outputs": [
    {
     "name": "stdout",
     "output_type": "stream",
     "text": [
      "Image shape: torch.Size([1, 28, 28])\n",
      "Number of training samples: 60000\n"
     ]
    }
   ],
   "source": [
    "# Get the shape of the first image in the training dataset\n",
    "image, label = train_dataset[0]\n",
    "print(\"Image shape:\", image.shape)\n",
    "print(\"Number of training samples:\", len(train_dataset))"
   ]
  },
  {
   "cell_type": "code",
   "execution_count": 5,
   "metadata": {
    "execution": {
     "iopub.execute_input": "2025-10-15T03:04:23.297092Z",
     "iopub.status.busy": "2025-10-15T03:04:23.296845Z",
     "iopub.status.idle": "2025-10-15T03:04:23.309855Z",
     "shell.execute_reply": "2025-10-15T03:04:23.309340Z",
     "shell.execute_reply.started": "2025-10-15T03:04:23.297072Z"
    },
    "id": "Np4cKkebKpmx",
    "trusted": true
   },
   "outputs": [
    {
     "name": "stdout",
     "output_type": "stream",
     "text": [
      "Image shape: torch.Size([1, 28, 28])\n",
      "Number of testing samples: 10000\n"
     ]
    }
   ],
   "source": [
    "# Get the shape of the first image in the test dataset\n",
    "image, label = test_dataset[0]\n",
    "print(\"Image shape:\", image.shape)\n",
    "print(\"Number of testing samples:\", len(test_dataset))"
   ]
  },
  {
   "cell_type": "code",
   "execution_count": 6,
   "metadata": {
    "execution": {
     "iopub.execute_input": "2025-10-15T03:04:23.311813Z",
     "iopub.status.busy": "2025-10-15T03:04:23.311620Z",
     "iopub.status.idle": "2025-10-15T03:04:23.326921Z",
     "shell.execute_reply": "2025-10-15T03:04:23.326303Z",
     "shell.execute_reply.started": "2025-10-15T03:04:23.311798Z"
    },
    "id": "6QNx7l2YISUp",
    "trusted": true
   },
   "outputs": [],
   "source": [
    "# Create DataLoader for batch processing\n",
    "train_loader = DataLoader(train_dataset, batch_size=32, shuffle=True,num_workers=2, pin_memory=True)\n",
    "test_loader = DataLoader(test_dataset, batch_size=32, shuffle=False,num_workers=2, pin_memory=True)\n"
   ]
  },
  {
   "cell_type": "code",
   "execution_count": 7,
   "metadata": {
    "execution": {
     "iopub.execute_input": "2025-10-15T03:04:23.327996Z",
     "iopub.status.busy": "2025-10-15T03:04:23.327681Z",
     "iopub.status.idle": "2025-10-15T03:04:23.341708Z",
     "shell.execute_reply": "2025-10-15T03:04:23.341051Z",
     "shell.execute_reply.started": "2025-10-15T03:04:23.327974Z"
    },
    "id": "GvzsVmYUIWuo",
    "trusted": true
   },
   "outputs": [],
   "source": [
    "class CNNClassifier(nn.Module):\n",
    "    def __init__(self,input_size,output_size):\n",
    "        super().__init__()\n",
    "        self.conv1    = nn.Conv2d(1, 32, kernel_size=3, stride = 1, padding=1)  # 32x28x28\n",
    "        self.r1       = nn.ReLU()\n",
    "        self.maxpool1 = nn.MaxPool2d(2,2) # 32x14x14\n",
    "\n",
    "        self.conv2    = nn.Conv2d(32, 64, kernel_size=3, stride = 1, padding=1) # 64x14x14\n",
    "        self.r2       = nn.ReLU()\n",
    "        self.maxpool2  = nn.MaxPool2d(2,2) # 64x7x7\n",
    "\n",
    "        self.l1       = nn.Linear(64 * 7 * 7, 128)\n",
    "        self.r3       = nn.ReLU()\n",
    "        self.l2       = nn.Linear(128,10)\n",
    "\n",
    "    def forward(self, x):\n",
    "        x = self.maxpool1(self.r1(self.conv1(x)))\n",
    "        x = self.maxpool2(self.r2(self.conv2(x)))\n",
    "     \n",
    "        x = x.view(x.size(0), -1) # Flatten the conv output to 1D tensor \n",
    "\n",
    "        x = self.r3(self.l1(x))\n",
    "        x = self.l2(x)\n",
    "\n",
    "        return x"
   ]
  },
  {
   "cell_type": "markdown",
   "metadata": {
    "id": "1glOMHxdOxlq"
   },
   "source": [
    "![image.png](data:image/png;base64,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)"
   ]
  },
  {
   "cell_type": "code",
   "execution_count": null,
   "metadata": {
    "execution": {
     "iopub.execute_input": "2025-10-15T03:04:23.342638Z",
     "iopub.status.busy": "2025-10-15T03:04:23.342427Z",
     "iopub.status.idle": "2025-10-15T03:04:23.367795Z",
     "shell.execute_reply": "2025-10-15T03:04:23.366970Z",
     "shell.execute_reply.started": "2025-10-15T03:04:23.342614Z"
    },
    "id": "LHob57oROF77",
    "trusted": true
   },
   "outputs": [
    {
     "name": "stdout",
     "output_type": "stream",
     "text": [
      "Name: Sanjay Sivaramakrishnan M\n",
      "Register Number: 212223240151\n",
      "Model moved to CUDA :  True\n",
      "----------------------------------------------------------------\n",
      "        Layer (type)               Output Shape         Param #\n",
      "================================================================\n",
      "            Conv2d-1           [-1, 32, 28, 28]             320\n",
      "              ReLU-2           [-1, 32, 28, 28]               0\n",
      "         MaxPool2d-3           [-1, 32, 14, 14]               0\n",
      "            Conv2d-4           [-1, 64, 14, 14]          18,496\n",
      "              ReLU-5           [-1, 64, 14, 14]               0\n",
      "         MaxPool2d-6             [-1, 64, 7, 7]               0\n",
      "            Linear-7                  [-1, 128]         401,536\n",
      "              ReLU-8                  [-1, 128]               0\n",
      "            Linear-9                   [-1, 10]           1,290\n",
      "================================================================\n",
      "Total params: 421,642\n",
      "Trainable params: 421,642\n",
      "Non-trainable params: 0\n",
      "----------------------------------------------------------------\n",
      "Input size (MB): 0.00\n",
      "Forward/backward pass size (MB): 0.65\n",
      "Params size (MB): 1.61\n",
      "Estimated Total Size (MB): 2.26\n",
      "----------------------------------------------------------------\n"
     ]
    }
   ],
   "source": [
    "from torchsummary import summary\n",
    "\n",
    "# Initialize model\n",
    "model = CNNClassifier()\n",
    "\n",
    "# Move model to GPU if available\n",
    "if torch.cuda.is_available():\n",
    "    device = torch.device(\"cuda\")\n",
    "    model.to(device)\n",
    "\n",
    "# Print model summary\n",
    "print('Name: Sanjay Sivaramakrishnan M')\n",
    "print('Register Number: 212223240151')\n",
    "print(\"Model moved to CUDA : \",next(model.parameters()).is_cuda)\n",
    "summary(model, input_size=(1, 28, 28))"
   ]
  },
  {
   "cell_type": "code",
   "execution_count": 9,
   "metadata": {
    "execution": {
     "iopub.execute_input": "2025-10-15T03:04:23.368935Z",
     "iopub.status.busy": "2025-10-15T03:04:23.368614Z",
     "iopub.status.idle": "2025-10-15T03:04:23.373104Z",
     "shell.execute_reply": "2025-10-15T03:04:23.372560Z",
     "shell.execute_reply.started": "2025-10-15T03:04:23.368912Z"
    },
    "id": "Zi53JllwIapx",
    "trusted": true
   },
   "outputs": [],
   "source": [
    "# Initialize loss function, and optimizer\n",
    "criterion = nn.CrossEntropyLoss()\n",
    "optimizer = torch.optim.Adam(model.parameters(), lr = 0.001)"
   ]
  },
  {
   "cell_type": "code",
   "execution_count": 10,
   "metadata": {
    "execution": {
     "iopub.execute_input": "2025-10-15T03:04:23.374019Z",
     "iopub.status.busy": "2025-10-15T03:04:23.373841Z",
     "iopub.status.idle": "2025-10-15T03:04:23.387459Z",
     "shell.execute_reply": "2025-10-15T03:04:23.386758Z",
     "shell.execute_reply.started": "2025-10-15T03:04:23.374005Z"
    },
    "id": "PiziTNVjIjVB",
    "trusted": true
   },
   "outputs": [],
   "source": [
    "import time\n",
    "from tqdm import tqdm\n",
    "\n",
    "def train_model(model, train_loader, num_epochs=3):\n",
    "    for epoch in range(num_epochs):\n",
    "        start_epoch = time.time()\n",
    "        running_loss = 0.0\n",
    "\n",
    "        # Wrap loader with tqdm\n",
    "        tqdm_trainloader = tqdm(train_loader, desc=f\"Epoch [{epoch + 1}/{num_epochs}]\", unit=\"batch\")\n",
    "\n",
    "        for i, (images, labels) in enumerate(tqdm_trainloader):\n",
    "            images, labels = images.to(device), labels.to(device)\n",
    "\n",
    "            optimizer.zero_grad()\n",
    "            outputs = model(images)\n",
    "            loss = criterion(outputs, labels)\n",
    "            loss.backward()\n",
    "            optimizer.step()\n",
    "\n",
    "            # Accumulate loss\n",
    "            running_loss += loss.item() * images.size(0)\n",
    "\n",
    "            # Update tqdm postfix (average loss so far)\n",
    "            tqdm_trainloader.set_postfix(loss=f\"{running_loss / ((i+1)*images.size(0)):.4f}\")\n",
    "\n",
    "        torch.cuda.synchronize()\n",
    "        end_epoch = time.time()\n",
    "        epoch_loss = running_loss / len(train_loader.dataset)\n",
    "        print(f\"Epoch [{epoch+1}/{num_epochs}] completed. Loss: {epoch_loss:.4f}, Time: {end_epoch - start_epoch:.2f}s\")\n"
   ]
  },
  {
   "cell_type": "code",
   "execution_count": 11,
   "metadata": {
    "colab": {
     "base_uri": "https://localhost:8080/"
    },
    "execution": {
     "iopub.execute_input": "2025-10-15T03:04:23.388339Z",
     "iopub.status.busy": "2025-10-15T03:04:23.388139Z",
     "iopub.status.idle": "2025-10-15T03:06:15.234187Z",
     "shell.execute_reply": "2025-10-15T03:06:15.233334Z",
     "shell.execute_reply.started": "2025-10-15T03:04:23.388319Z"
    },
    "id": "HFw97_tqInO5",
    "outputId": "12194219-b922-4271-ee58-f4a8a963b39d",
    "trusted": true
   },
   "outputs": [
    {
     "name": "stderr",
     "output_type": "stream",
     "text": [
      "Epoch [1/10]: 100%|██████████| 1875/1875 [00:43<00:00, 43.40batch/s, loss=0.1209] \n"
     ]
    },
    {
     "name": "stdout",
     "output_type": "stream",
     "text": [
      "Epoch [1/10] completed. Loss: 0.1209, Time: 43.22s\n"
     ]
    },
    {
     "name": "stderr",
     "output_type": "stream",
     "text": [
      "Epoch [2/10]: 100%|██████████| 1875/1875 [00:27<00:00, 68.32batch/s, loss=0.0405] \n"
     ]
    },
    {
     "name": "stdout",
     "output_type": "stream",
     "text": [
      "Epoch [2/10] completed. Loss: 0.0405, Time: 27.44s\n"
     ]
    },
    {
     "name": "stderr",
     "output_type": "stream",
     "text": [
      "Epoch [3/10]: 100%|██████████| 1875/1875 [00:35<00:00, 53.48batch/s, loss=0.0272]\n"
     ]
    },
    {
     "name": "stdout",
     "output_type": "stream",
     "text": [
      "Epoch [3/10] completed. Loss: 0.0272, Time: 35.07s\n"
     ]
    },
    {
     "name": "stderr",
     "output_type": "stream",
     "text": [
      "Epoch [4/10]: 100%|██████████| 1875/1875 [00:33<00:00, 56.65batch/s, loss=0.0193] \n"
     ]
    },
    {
     "name": "stdout",
     "output_type": "stream",
     "text": [
      "Epoch [4/10] completed. Loss: 0.0193, Time: 33.10s\n"
     ]
    },
    {
     "name": "stderr",
     "output_type": "stream",
     "text": [
      "Epoch [5/10]: 100%|██████████| 1875/1875 [01:45<00:00, 17.79batch/s, loss=0.0145]\n"
     ]
    },
    {
     "name": "stdout",
     "output_type": "stream",
     "text": [
      "Epoch [5/10] completed. Loss: 0.0145, Time: 105.43s\n"
     ]
    },
    {
     "name": "stderr",
     "output_type": "stream",
     "text": [
      "Epoch [6/10]: 100%|██████████| 1875/1875 [01:41<00:00, 18.54batch/s, loss=0.0118]\n"
     ]
    },
    {
     "name": "stdout",
     "output_type": "stream",
     "text": [
      "Epoch [6/10] completed. Loss: 0.0118, Time: 101.16s\n"
     ]
    },
    {
     "name": "stderr",
     "output_type": "stream",
     "text": [
      "Epoch [7/10]: 100%|██████████| 1875/1875 [01:45<00:00, 17.84batch/s, loss=0.0107]\n"
     ]
    },
    {
     "name": "stdout",
     "output_type": "stream",
     "text": [
      "Epoch [7/10] completed. Loss: 0.0107, Time: 105.08s\n"
     ]
    },
    {
     "name": "stderr",
     "output_type": "stream",
     "text": [
      "Epoch [8/10]: 100%|██████████| 1875/1875 [01:54<00:00, 16.43batch/s, loss=0.0077] \n"
     ]
    },
    {
     "name": "stdout",
     "output_type": "stream",
     "text": [
      "Epoch [8/10] completed. Loss: 0.0077, Time: 114.11s\n"
     ]
    },
    {
     "name": "stderr",
     "output_type": "stream",
     "text": [
      "Epoch [9/10]: 100%|██████████| 1875/1875 [01:05<00:00, 28.57batch/s, loss=0.0074]\n"
     ]
    },
    {
     "name": "stdout",
     "output_type": "stream",
     "text": [
      "Epoch [9/10] completed. Loss: 0.0074, Time: 65.62s\n"
     ]
    },
    {
     "name": "stderr",
     "output_type": "stream",
     "text": [
      "Epoch [10/10]: 100%|██████████| 1875/1875 [01:52<00:00, 16.68batch/s, loss=0.0065]"
     ]
    },
    {
     "name": "stdout",
     "output_type": "stream",
     "text": [
      "Epoch [10/10] completed. Loss: 0.0065, Time: 112.40s\n"
     ]
    },
    {
     "name": "stderr",
     "output_type": "stream",
     "text": [
      "\n"
     ]
    }
   ],
   "source": [
    "# Train the model\n",
    "train_model(model, train_loader, num_epochs=10)"
   ]
  },
  {
   "cell_type": "code",
   "execution_count": 12,
   "metadata": {
    "execution": {
     "iopub.execute_input": "2025-10-15T03:06:15.236922Z",
     "iopub.status.busy": "2025-10-15T03:06:15.236634Z",
     "iopub.status.idle": "2025-10-15T03:06:15.243900Z",
     "shell.execute_reply": "2025-10-15T03:06:15.243214Z",
     "shell.execute_reply.started": "2025-10-15T03:06:15.236902Z"
    },
    "id": "1QrqfMIuIsJB",
    "trusted": true
   },
   "outputs": [],
   "source": [
    "## Step 4: Test the Model\n",
    "\n",
    "def test_model(model, test_loader):\n",
    "    model.eval()\n",
    "    correct = 0\n",
    "    total = 0\n",
    "    all_preds = []\n",
    "    all_labels = []\n",
    "\n",
    "    with torch.no_grad():\n",
    "        for images, labels in test_loader:\n",
    "            if torch.cuda.is_available():\n",
    "                images, labels = images.to(device), labels.to(device)\n",
    "\n",
    "            outputs = model(images)\n",
    "            _, predicted = torch.max(outputs, 1)\n",
    "            total += labels.size(0)\n",
    "            correct += (predicted == labels).sum().item()\n",
    "            all_preds.extend(predicted.cpu().numpy())\n",
    "            all_labels.extend(labels.cpu().numpy())\n",
    "\n",
    "    accuracy = correct / total\n",
    "    print(f'Test Accuracy: {accuracy:.4f}')\n",
    "    # Compute confusion matrix\n",
    "    cm = confusion_matrix(all_labels, all_preds)\n",
    "    plt.figure(figsize=(8, 6))\n",
    "    sns.heatmap(cm, annot=True, fmt='d', cmap='Blues', xticklabels=test_dataset.classes, yticklabels=test_dataset.classes)\n",
    "    plt.xlabel('Predicted')\n",
    "    plt.ylabel('Actual')\n",
    "    plt.title('Confusion Matrix')\n",
    "    plt.show()\n",
    "    # Print classification report\n",
    "    print('Name: Sanjay Sivaramakrishnan M')\n",
    "    print('Register Number: 212223240151')\n",
    "    print(\"Classification Report:\")\n",
    "    print(classification_report(all_labels, all_preds, target_names=[str(i) for i in range(10)]))"
   ]
  },
  {
   "cell_type": "code",
   "execution_count": 13,
   "metadata": {
    "execution": {
     "iopub.execute_input": "2025-10-15T03:06:15.244814Z",
     "iopub.status.busy": "2025-10-15T03:06:15.244565Z",
     "iopub.status.idle": "2025-10-15T03:06:17.401059Z",
     "shell.execute_reply": "2025-10-15T03:06:17.400179Z",
     "shell.execute_reply.started": "2025-10-15T03:06:15.244791Z"
    },
    "id": "UobAH8oOIs0p",
    "trusted": true
   },
   "outputs": [
    {
     "name": "stdout",
     "output_type": "stream",
     "text": [
      "Test Accuracy: 0.9902\n"
     ]
    },
    {
     "data": {
      "image/png": "[encoded data removed]",
      "text/plain": [
       "<Figure size 800x600 with 2 Axes>"
      ]
     },
     "metadata": {},
     "output_type": "display_data"
    },
    {
     "name": "stdout",
     "output_type": "stream",
     "text": [
      "Name: Sanjay Sivaramakrishnan M\n",
      "Register Number: 212223240151\n",
      "Classification Report:\n",
      "              precision    recall  f1-score   support\n",
      "\n",
      "           0       1.00      0.99      0.99       980\n",
      "           1       1.00      0.99      1.00      1135\n",
      "           2       0.99      0.99      0.99      1032\n",
      "           3       0.99      0.98      0.99      1010\n",
      "           4       1.00      0.98      0.99       982\n",
      "           5       0.97      0.99      0.98       892\n",
      "           6       0.99      0.99      0.99       958\n",
      "           7       0.99      0.99      0.99      1028\n",
      "           8       0.99      0.99      0.99       974\n",
      "           9       0.99      0.99      0.99      1009\n",
      "\n",
      "    accuracy                           0.99     10000\n",
      "   macro avg       0.99      0.99      0.99     10000\n",
      "weighted avg       0.99      0.99      0.99     10000\n",
      "\n"
     ]
    }
   ],
   "source": [
    "# Evaluate the model\n",
    "test_model(model, test_loader)\n"
   ]
  },
  {
   "cell_type": "code",
   "execution_count": 16,
   "metadata": {
    "execution": {
     "iopub.execute_input": "2025-10-15T03:06:17.402696Z",
     "iopub.status.busy": "2025-10-15T03:06:17.402092Z",
     "iopub.status.idle": "2025-10-15T03:06:17.408228Z",
     "shell.execute_reply": "2025-10-15T03:06:17.407445Z",
     "shell.execute_reply.started": "2025-10-15T03:06:17.402672Z"
    },
    "id": "UXYUZ-V7Iwqo",
    "trusted": true
   },
   "outputs": [],
   "source": [
    "## Step 5: Predict on a Single Image\n",
    "def predict_image(model, image_index, dataset):\n",
    "    model.eval()\n",
    "    image, label = dataset[image_index]\n",
    "    if torch.cuda.is_available():\n",
    "        image = image.to(device)\n",
    "\n",
    "    with torch.no_grad():\n",
    "        output = model(image.unsqueeze(0))\n",
    "        _, predicted = torch.max(output, 1)\n",
    "\n",
    "    class_names = [str(i) for i in range(10)]\n",
    "\n",
    "    print('Name: Sanjay Sivaramakrishnan M')\n",
    "    print('Register Number: 212223240151')\n",
    "    plt.imshow(image.cpu().squeeze(), cmap=\"gray\")\n",
    "    plt.title(f'Actual: {class_names[label]}\\nPredicted: {class_names[predicted.item()]}')\n",
    "    plt.axis(\"off\")\n",
    "    plt.show()\n",
    "    print(f'Actual: {class_names[label]}, Predicted: {class_names[predicted.item()]}')"
   ]
  },
  {
   "cell_type": "code",
   "execution_count": 19,
   "metadata": {
    "execution": {
     "iopub.execute_input": "2025-10-15T03:06:17.409263Z",
     "iopub.status.busy": "2025-10-15T03:06:17.409034Z",
     "iopub.status.idle": "2025-10-15T03:06:17.701549Z",
     "shell.execute_reply": "2025-10-15T03:06:17.700782Z",
     "shell.execute_reply.started": "2025-10-15T03:06:17.409247Z"
    },
    "id": "X9FU-SeUIzmp",
    "trusted": true
   },
   "outputs": [
    {
     "name": "stdout",
     "output_type": "stream",
     "text": [
      "Name: Sanjay Sivaramakrishnan M\n",
      "Register Number: 212223240151\n"
     ]
    },
    {
     "data": {
      "image/png": "[encoded data removed]",
      "text/plain": [
       "<Figure size 640x480 with 1 Axes>"
      ]
     },
     "metadata": {},
     "output_type": "display_data"
    },
    {
     "name": "stdout",
     "output_type": "stream",
     "text": [
      "Actual: 6, Predicted: 6\n"
     ]
    }
   ],
   "source": [
    "# Example Prediction\n",
    "predict_image(model, image_index=21, dataset=test_dataset)"
   ]
  }
 ],
 "metadata": {
  "accelerator": "GPU",
  "colab": {
   "gpuType": "T4",
   "provenance": []
  },
  "kaggle": {
   "accelerator": "gpu",
   "dataSources": [],
   "dockerImageVersionId": 31154,
   "isGpuEnabled": true,
   "isInternetEnabled": true,
   "language": "python",
   "sourceType": "notebook"
  },
  "kernelspec": {
   "display_name": "open_cv",
   "language": "python",
   "name": "python3"
  },
  "language_info": {
   "codemirror_mode": {
    "name": "ipython",
    "version": 3
   },
   "file_extension": ".py",
   "mimetype": "text/x-python",
   "name": "python",
   "nbconvert_exporter": "python",
   "pygments_lexer": "ipython3",
   "version": "3.11.13"
  }
 },
 "nbformat": 4,
 "nbformat_minor": 4
}
